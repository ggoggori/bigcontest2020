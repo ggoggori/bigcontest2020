{
 "cells": [
  {
   "cell_type": "code",
   "execution_count": 1,
   "metadata": {},
   "outputs": [],
   "source": [
    "import pandas as pd\n",
    "import numpy as np\n",
    "import matplotlib.pyplot as plt\n",
    "import seaborn as sns\n",
    "%matplotlib inline\n",
    "import warnings\n",
    "warnings.filterwarnings('ignore')\n",
    "from matplotlib import font_manager, rc\n",
    "import platform\n",
    "\n",
    "if platform.system() == 'Windows':\n",
    "# 윈도우인 경우\n",
    "    font_name = font_manager.FontProperties(fname=\"c:/Windows/Fonts/malgun.ttf\").get_name()\n",
    "    rc('font', family=font_name)\n",
    "    \n",
    "else:    \n",
    "# Mac 인 경우\n",
    "    rc('font', family='AppleGothic')\n",
    "    \n",
    "plt.style.use('ggplot')\n",
    "import datetime\n",
    "np.random.seed(0)\n",
    "from scipy import stats\n",
    "from scipy.stats import skew\n",
    "from scipy.special import boxcox1p\n",
    "import time\n",
    "from tqdm.notebook import tqdm"
   ]
  },
  {
   "cell_type": "code",
   "execution_count": 2,
   "metadata": {},
   "outputs": [],
   "source": [
    "## 제공 데이터\n",
    "train = pd.read_csv('train_after_processing_weatheropt3.csv',header = 0,index_col=0, encoding='cp949') \n",
    "test = pd.read_csv('test_after_processing_weatheropt3.csv',header = 0,index_col=0, encoding='cp949')\n",
    "test_submit = pd.read_excel('test_submit.xlsx',header=1)"
   ]
  },
  {
   "cell_type": "code",
   "execution_count": 3,
   "metadata": {},
   "outputs": [],
   "source": [
    "w2v_train = pd.read_csv('w2v_tr_feature.csv')\n",
    "w2v_test = pd.read_csv('w2v_te_feature.csv')\n",
    "\n",
    "w2v_df=pd.concat([w2v_train,w2v_test])"
   ]
  },
  {
   "cell_type": "markdown",
   "metadata": {},
   "source": [
    "# 못다한 전처리"
   ]
  },
  {
   "cell_type": "markdown",
   "metadata": {},
   "source": [
    "* 시청률 drop, 취급액 0인 row drop, 브랜드 fill na"
   ]
  },
  {
   "cell_type": "code",
   "execution_count": 5,
   "metadata": {},
   "outputs": [],
   "source": [
    "train = train.drop(['시청률'],axis=1)\n",
    "\n",
    "train['취급액'] = train['취급액'].apply(lambda x: np.NAN if x==0 else x)\n",
    "\n",
    "train['브랜드'] = train['브랜드'].fillna('없음')\n",
    "\n",
    "train = train.dropna()\n",
    "\n",
    "target = np.log1p(train['취급액'])"
   ]
  },
  {
   "cell_type": "markdown",
   "metadata": {},
   "source": [
    "* prime_time 추가"
   ]
  },
  {
   "cell_type": "code",
   "execution_count": 6,
   "metadata": {},
   "outputs": [],
   "source": [
    "train['판매량'] = train['취급액']/train['판매단가']\n",
    "for i in range(24):\n",
    "    if i == 0:\n",
    "        t = train.groupby(['상품군','hour'])['판매량'].agg([('판매량_mean','mean')]).reset_index()\n",
    "        v = t.query('hour == @i').sort_values('판매량_mean',ascending = False).reset_index().drop(columns='index')\n",
    "        v['판매량_mean'] = [i for i in range(len(v),0,-1)]\n",
    "    else:\n",
    "        t = train.groupby(['상품군','hour'])['판매량'].agg([('판매량_mean','mean')]).reset_index()\n",
    "        a = t.query('hour == @i').sort_values('판매량_mean',ascending = False).reset_index().drop(columns='index')\n",
    "        a['판매량_mean'] = [i for i in range(len(a),0,-1)]\n",
    "        \n",
    "        v = pd.concat([v,a],axis=0)\n",
    "    v = v.reset_index().drop('index',axis=1)\n"
   ]
  },
  {
   "cell_type": "markdown",
   "metadata": {},
   "source": [
    "* prime_time 2 추가"
   ]
  },
  {
   "cell_type": "code",
   "execution_count": 7,
   "metadata": {},
   "outputs": [],
   "source": [
    "t = train.groupby(['대','hour'])['판매량'].mean().reset_index()\n",
    "t = t.sort_values(['대','판매량'])\n",
    "t['순위'] = t.groupby(['대'])['판매량'].rank(method='max',ascending=True)\n",
    "\n",
    "t= t.drop('판매량',axis=1)\n",
    "\n",
    "t['순위'] = t['순위'].astype('int8')\n",
    "\n",
    "train = train.drop('판매량',axis=1)"
   ]
  },
  {
   "cell_type": "markdown",
   "metadata": {},
   "source": [
    "* df + prime_time1,2 + w2v feature"
   ]
  },
  {
   "cell_type": "code",
   "execution_count": 8,
   "metadata": {},
   "outputs": [],
   "source": [
    "df = pd.concat([train,test])\n",
    "\n",
    "df = pd.merge(df,v,left_on=['hour','상품군'],right_on = ['hour','상품군'],how='left')\n",
    "\n",
    "df = pd.merge(df,t, left_on = ['대','hour'],right_on=['대','hour'],how='left')\n",
    "\n",
    "df['판매량_mean'] = df['판매량_mean'].fillna(5.0)\n",
    "\n",
    "df['순위'] = df['순위'].fillna(5.0)\n",
    "\n",
    "df = pd.concat([df.reset_index(),w2v_df.reset_index()],axis=1).drop('index',axis=1)"
   ]
  },
  {
   "cell_type": "markdown",
   "metadata": {},
   "source": [
    "* feature_type 변경"
   ]
  },
  {
   "cell_type": "code",
   "execution_count": 9,
   "metadata": {},
   "outputs": [],
   "source": [
    "df['상품코드'] = df['상품코드'].apply(lambda x:str(x))\n",
    "df['마더코드'] = df['마더코드'].apply(lambda x:str(x))\n",
    "df['month'] = df['month'].apply(lambda x:str(int(x)))\n",
    "df['day'] = df['day'].apply(lambda x:str(int(x)))\n",
    "df['hour'] = df['hour'].apply(lambda x:str(int(x)))\n",
    "df['공휴일'] = df['공휴일'].apply(lambda x:str(int(x)))\n",
    "df['강수여부'] = np.where(df['강수량_mean']==0,False,True)\n",
    "df['강수여부'] = df['강수여부'].apply(lambda x:str(int(x)))\n",
    "df['minute'] = df['minute'].apply(lambda x:float(x))"
   ]
  },
  {
   "cell_type": "code",
   "execution_count": 10,
   "metadata": {},
   "outputs": [],
   "source": [
    "df = df.drop(['방송일시','상품명','취급액','일사_mean','일사_min','일사_max'],axis=1)"
   ]
  },
  {
   "cell_type": "markdown",
   "metadata": {},
   "source": [
    "* feature의 box-cox변환"
   ]
  },
  {
   "cell_type": "code",
   "execution_count": 11,
   "metadata": {},
   "outputs": [
    {
     "name": "stdout",
     "output_type": "stream",
     "text": [
      "판매단가 의 최적의 lambda: -0.38060338377774783 \n",
      "\n",
      "0인 row가 존재하여 0.15로 box-cox 변환 item_w_mean \n",
      "\n",
      "0인 row가 존재하여 0.15로 box-cox 변환 풍향_min \n",
      "\n",
      "풍향_max 의 최적의 lambda: 9.311679616799488 \n",
      "\n",
      "0인 row가 존재하여 0.15로 box-cox 변환 풍속_min \n",
      "\n",
      "풍속_max 의 최적의 lambda: 0.10831167082982646 \n",
      "\n",
      "0인 row가 존재하여 0.15로 box-cox 변환 강수량_mean \n",
      "\n",
      "0인 row가 존재하여 0.15로 box-cox 변환 강수량_max \n",
      "\n",
      "0인 row가 존재하여 0.15로 box-cox 변환 강수여부_count \n",
      "\n",
      "pm10 의 최적의 lambda: -0.06788059479474945 \n",
      "\n",
      "pm25 의 최적의 lambda: 0.023865461524578222 \n",
      "\n",
      "0인 row가 존재하여 0.15로 box-cox 변환 w2v_27 \n",
      "\n",
      "0인 row가 존재하여 0.15로 box-cox 변환 w2v_31 \n",
      "\n",
      "0인 row가 존재하여 0.15로 box-cox 변환 w2v_95 \n",
      "\n",
      "0인 row가 존재하여 0.15로 box-cox 변환 w2v_101 \n",
      "\n",
      "0인 row가 존재하여 0.15로 box-cox 변환 w2v_107 \n",
      "\n",
      "w2v_121 의 최적의 lambda: -0.025287520268332062 \n",
      "\n",
      "0인 row가 존재하여 0.15로 box-cox 변환 w2v_123 \n",
      "\n",
      "0인 row가 존재하여 0.15로 box-cox 변환 w2v_133 \n",
      "\n",
      "0인 row가 존재하여 0.15로 box-cox 변환 w2v_134 \n",
      "\n",
      "0인 row가 존재하여 0.15로 box-cox 변환 w2v_135 \n",
      "\n",
      "0인 row가 존재하여 0.15로 box-cox 변환 w2v_139 \n",
      "\n",
      "0인 row가 존재하여 0.15로 box-cox 변환 w2v_173 \n",
      "\n",
      "0인 row가 존재하여 0.15로 box-cox 변환 w2v_186 \n",
      "\n",
      "0인 row가 존재하여 0.15로 box-cox 변환 w2v_187 \n",
      "\n",
      "0인 row가 존재하여 0.15로 box-cox 변환 w2v_215 \n",
      "\n",
      "0인 row가 존재하여 0.15로 box-cox 변환 w2v_221 \n",
      "\n",
      "0인 row가 존재하여 0.15로 box-cox 변환 w2v_228 \n",
      "\n",
      "0인 row가 존재하여 0.15로 box-cox 변환 w2v_235 \n",
      "\n",
      "0인 row가 존재하여 0.15로 box-cox 변환 w2v_259 \n",
      "\n",
      "0인 row가 존재하여 0.15로 box-cox 변환 w2v_281 \n",
      "\n",
      "0인 row가 존재하여 0.15로 box-cox 변환 w2v_295 \n",
      "\n",
      "0인 row가 존재하여 0.15로 box-cox 변환 w2v_302 \n",
      "\n",
      "0인 row가 존재하여 0.15로 box-cox 변환 w2v_312 \n",
      "\n",
      "0인 row가 존재하여 0.15로 box-cox 변환 w2v_345 \n",
      "\n",
      "0인 row가 존재하여 0.15로 box-cox 변환 w2v_360 \n",
      "\n",
      "0인 row가 존재하여 0.15로 box-cox 변환 w2v_374 \n",
      "\n",
      "0인 row가 존재하여 0.15로 box-cox 변환 w2v_390 \n",
      "\n",
      "0인 row가 존재하여 0.15로 box-cox 변환 w2v_395 \n",
      "\n",
      "0인 row가 존재하여 0.15로 box-cox 변환 w2v_421 \n",
      "\n",
      "0인 row가 존재하여 0.15로 box-cox 변환 w2v_463 \n",
      "\n",
      "0인 row가 존재하여 0.15로 box-cox 변환 w2v_481 \n",
      "\n",
      "0인 row가 존재하여 0.15로 box-cox 변환 w2v_507 \n",
      "\n",
      "0인 row가 존재하여 0.15로 box-cox 변환 w2v_539 \n",
      "\n",
      "0인 row가 존재하여 0.15로 box-cox 변환 w2v_560 \n",
      "\n",
      "0인 row가 존재하여 0.15로 box-cox 변환 w2v_563 \n",
      "\n",
      "0인 row가 존재하여 0.15로 box-cox 변환 w2v_574 \n",
      "\n",
      "0인 row가 존재하여 0.15로 box-cox 변환 w2v_587 \n",
      "\n",
      "0인 row가 존재하여 0.15로 box-cox 변환 w2v_589 \n",
      "\n"
     ]
    }
   ],
   "source": [
    "features_index = df.dtypes[(df.dtypes=='float') | (df.dtypes=='int64')].index\n",
    "\n",
    "skew_features = df[features_index].apply(lambda x: skew(x))\n",
    "\n",
    "skew_features_over1_5 = skew_features[np.abs(skew_features) > 1.03]\n",
    "\n",
    "for i in skew_features_over1_5.index:\n",
    "    try:\n",
    "        _,optimal_lambda = stats.boxcox(df[i])\n",
    "        df[i] = boxcox1p(df[i],np.round(optimal_lambda,3))\n",
    "        print(i,'의 최적의 lambda:',optimal_lambda,'\\n')\n",
    "    except:\n",
    "        df[i] = boxcox1p(df[i],0.15)\n",
    "        \n",
    "        print('0인 row가 존재하여 0.15로 box-cox 변환',i,'\\n')"
   ]
  },
  {
   "cell_type": "markdown",
   "metadata": {},
   "source": [
    "* category 형으로 전환"
   ]
  },
  {
   "cell_type": "code",
   "execution_count": 12,
   "metadata": {},
   "outputs": [],
   "source": [
    "for i in df.select_dtypes(include=['object']).columns:\n",
    "    df[i] = df[i].astype('category').cat.codes"
   ]
  },
  {
   "cell_type": "markdown",
   "metadata": {},
   "source": [
    "* feature_scaling"
   ]
  },
  {
   "cell_type": "code",
   "execution_count": 13,
   "metadata": {},
   "outputs": [],
   "source": [
    "from sklearn.preprocessing import StandardScaler\n",
    "\n",
    "scaler = StandardScaler()\n",
    "scaled_columns = df.select_dtypes(include=['float']).columns\n",
    "df_scaled = scaler.fit_transform(df.select_dtypes(include=['float']))"
   ]
  },
  {
   "cell_type": "code",
   "execution_count": 14,
   "metadata": {},
   "outputs": [],
   "source": [
    "df = df.drop(scaled_columns,axis=1)"
   ]
  },
  {
   "cell_type": "code",
   "execution_count": 15,
   "metadata": {},
   "outputs": [],
   "source": [
    "df_scaled = pd.DataFrame(df_scaled,columns=scaled_columns,index=df.index)"
   ]
  },
  {
   "cell_type": "code",
   "execution_count": 16,
   "metadata": {},
   "outputs": [],
   "source": [
    "df = pd.concat([df,df_scaled],axis=1)"
   ]
  },
  {
   "cell_type": "markdown",
   "metadata": {},
   "source": [
    "# pca"
   ]
  },
  {
   "cell_type": "code",
   "execution_count": 17,
   "metadata": {},
   "outputs": [],
   "source": [
    "from sklearn.decomposition import PCA\n",
    "def pca(t_list,opt_num=0):\n",
    "    \n",
    "    global df\n",
    "    print('pca전 df의 shape:',df.shape)\n",
    "    for t in  t_list:\n",
    "        print('\\n',t,'pca 시작')\n",
    "        \n",
    "        \n",
    "        if t ==\"item_\":\n",
    "            opt_num = 1\n",
    "            \n",
    "        col_list = []   \n",
    "        for i in map(str,df.columns):\n",
    "            if t in i:\n",
    "                col_list.append(i)\n",
    "                \n",
    "        \n",
    "        \n",
    "        a = list(df.columns).index(col_list[opt_num])\n",
    "\n",
    "        b = list(df.columns).index(col_list[-1]) + 1\n",
    "\n",
    "        df_pca = df.iloc[:,a:b]\n",
    "\n",
    "        print('pca 이전 shape',df_pca.shape)\n",
    "\n",
    "        \n",
    "\n",
    "        max_d = num_d = df_pca.shape[1] \n",
    "\n",
    "        pca = PCA(n_components=max_d, random_state=0).fit(df_pca)\n",
    "        cumsum = np.cumsum(pca.explained_variance_ratio_) #분산의 설명량을 누적합\n",
    "        num_d = np.argmax(cumsum >= 0.99) + 1             # 분산의 설명량이 99%이상 되는 차원의 수\n",
    "        if num_d == 1: num_d = max_d\n",
    "        pca = PCA(n_components=num_d, random_state=0).fit_transform(df_pca)\n",
    "        \n",
    "        print('pca 이후 shape',pd.DataFrame(pca).shape)\n",
    "\n",
    "        df = df.drop(col_list,axis=1)\n",
    "\n",
    "        df = pd.concat([df.reset_index(),pd.DataFrame(pca)],axis=1).set_index('index')\n",
    "    print('\\n','pca후 df의 shape:',df.shape)"
   ]
  },
  {
   "cell_type": "code",
   "execution_count": 18,
   "metadata": {
    "scrolled": false
   },
   "outputs": [
    {
     "name": "stdout",
     "output_type": "stream",
     "text": [
      "pca전 df의 shape: (38095, 646)\n",
      "\n",
      " w2v_ pca 시작\n",
      "pca 이전 shape (38095, 600)\n",
      "pca 이후 shape (38095, 59)\n",
      "\n",
      " pca후 df의 shape: (38095, 105)\n"
     ]
    }
   ],
   "source": [
    "t = ['w2v_'] \n",
    "pca(t)"
   ]
  },
  {
   "cell_type": "markdown",
   "metadata": {},
   "source": [
    "# train, test 분리"
   ]
  },
  {
   "cell_type": "code",
   "execution_count": 19,
   "metadata": {},
   "outputs": [],
   "source": [
    "train = df.iloc[:train.shape[0]]\n",
    "test = df.iloc[train.shape[0]:]\n",
    "train_col = train.columns"
   ]
  },
  {
   "cell_type": "markdown",
   "metadata": {},
   "source": [
    "# kmeans featurerizer"
   ]
  },
  {
   "cell_type": "code",
   "execution_count": 20,
   "metadata": {},
   "outputs": [],
   "source": [
    "from sklearn.cluster import KMeans\n",
    "from sklearn.preprocessing import OneHotEncoder\n",
    "from sklearn.decomposition import PCA\n",
    "\n",
    "class KMeansFeaturizer:\n",
    "    \"\"\"Transforms numeric data into k-means cluster memberships.\n",
    "    \n",
    "    This transformer runs k-means on the input data and converts each data point\n",
    "    into the id of the closest cluster. If a target variable is present, it is \n",
    "    scaled and included as input to k-means in order to derive clusters that\n",
    "    obey the classification boundary as well as group similar points together.\n",
    "\n",
    "    Parameters\n",
    "    ----------\n",
    "    k: integer, optional, default 100\n",
    "        The number of clusters to group data into.\n",
    "\n",
    "    target_scale: float, [0, infty], optional, default 5.0\n",
    "        The scaling factor for the target variable. Set this to zero to ignore\n",
    "        the target. For classification problems, larger `target_scale` values \n",
    "        will produce clusters that better respect the class boundary.\n",
    "\n",
    "    random_state : integer or numpy.RandomState, optional\n",
    "        This is passed to k-means as the generator used to initialize the \n",
    "        kmeans centers. If an integer is given, it fixes the seed. Defaults to \n",
    "        the global numpy random number generator.\n",
    "\n",
    "    Attributes\n",
    "    ----------\n",
    "    cluster_centers_ : array, [k, n_features]\n",
    "        Coordinates of cluster centers. n_features does count the target column.\n",
    "    \"\"\"\n",
    "\n",
    "    def __init__(self, k=100, target_scale=5, random_state=None):\n",
    "        self.k = k\n",
    "        self.target_scale = target_scale\n",
    "        self.random_state = random_state\n",
    "        self.cluster_encoder = OneHotEncoder().fit(np.array(range(k)).reshape(-1,1))\n",
    "        \n",
    "    def fit(self, X, y=None):\n",
    "        \"\"\"Runs k-means on the input data and find centroids.\n",
    "\n",
    "        If no target is given (`y` is None) then run vanilla k-means on input\n",
    "        `X`. \n",
    "\n",
    "        If target `y` is given, then include the target (weighted by \n",
    "        `target_scale`) as an extra dimension for k-means clustering. In this \n",
    "        case, run k-means twice, first with the target, then an extra iteration\n",
    "        without.\n",
    "\n",
    "        After fitting, the attribute `cluster_centers_` are set to the k-means\n",
    "        centroids in the input space represented by `X`.\n",
    "\n",
    "        Parameters\n",
    "        ----------\n",
    "        X : array-like or sparse matrix, shape=(n_data_points, n_features)\n",
    "\n",
    "        y : vector of length n_data_points, optional, default None\n",
    "            If provided, will be weighted with `target_scale` and included in \n",
    "            k-means clustering as hint.\n",
    "        \"\"\"\n",
    "        if y is None:\n",
    "            # No target variable, just do plain k-means\n",
    "            km_model = KMeans(n_clusters=self.k, n_init=20, random_state=self.random_state)\n",
    "            km_model.fit(X)\n",
    "\n",
    "            self.km_model_ = km_model\n",
    "            self.cluster_centers_ = km_model.cluster_centers_\n",
    "            return self\n",
    "\n",
    "        # There is target information. Apply appropriate scaling and include\n",
    "        # into input data to k-means            \n",
    "        data_with_target = np.hstack((X, y[:,np.newaxis]*self.target_scale))\n",
    "\n",
    "        # Build a pre-training k-means model on data and target\n",
    "        km_model_pretrain = KMeans(n_clusters=self.k, n_init=20, random_state=self.random_state)\n",
    "        km_model_pretrain.fit(data_with_target)\n",
    "\n",
    "        # Run k-means a second time to get the clusters in the original space\n",
    "        # without target info. Initialize using centroids found in pre-training.\n",
    "        # Go through a single iteration of cluster assignment and centroid \n",
    "        # recomputation.\n",
    "        km_model = KMeans(n_clusters=self.k, \n",
    "                          init=km_model_pretrain.cluster_centers_[:,:data_with_target.shape[1]-1], \n",
    "                          n_init=1, max_iter=1)\n",
    "        km_model.fit(X)\n",
    "        \n",
    "        self.km_model = km_model\n",
    "        self.cluster_centers_ = km_model.cluster_centers_\n",
    "        return self\n",
    "        \n",
    "    def transform(self, X, y=None):\n",
    "        \"\"\"Outputs the closest cluster id for each input data point.\n",
    "\n",
    "        Parameters\n",
    "        ----------\n",
    "        X : array-like or sparse matrix, shape=(n_data_points, n_features)\n",
    "\n",
    "        y : vector of length n_data_points, optional, default None\n",
    "            Target vector is ignored even if provided.\n",
    "\n",
    "        Returns\n",
    "        -------\n",
    "        cluster_ids : array, shape[n_data_points,1]\n",
    "        \"\"\"\n",
    "        clusters = self.km_model.predict(X)\n",
    "        onehot = self.cluster_encoder.transform(clusters.reshape(-1,1)).toarray()\n",
    "        max_col = onehot.shape[1]\n",
    "        pca = PCA(n_components=max_col, random_state=0).fit(onehot)\n",
    "        cumsum = np.cumsum(pca.explained_variance_ratio_)\n",
    "        num_col = np.argmax(cumsum >= 0.99) + 1\n",
    "        if num_col == 1: num_col = max_col\n",
    "        pca = PCA(n_components = num_col, random_state=0).fit_transform(onehot)\n",
    "        return pd.DataFrame(pca)\n",
    "    \n",
    "    def fit_transform(self, X, y=None):\n",
    "        \"\"\"Runs fit followed by transform.\n",
    "        \"\"\"\n",
    "        self.fit(X, y)\n",
    "        return self.transform(X, y)"
   ]
  },
  {
   "cell_type": "code",
   "execution_count": 21,
   "metadata": {},
   "outputs": [
    {
     "name": "stdout",
     "output_type": "stream",
     "text": [
      "(35379, 114)\n",
      "(2716, 114)\n"
     ]
    }
   ],
   "source": [
    "kmf_hint = KMeansFeaturizer(k=10, target_scale=5, random_state=0).fit(train, target)\n",
    "#kmf_no_hint = KMeansFeaturizer(k=30, target_scale=0, random_state=0).fit(train_x, y_train)\n",
    "\n",
    "# Generate k-means clustering features\n",
    "training_cluster_features = kmf_hint.transform(train)\n",
    "test_cluster_features = kmf_hint.transform(test)\n",
    "training_cluster_features.index = train.index\n",
    "test_cluster_features.index=test.index\n",
    "# Augment existing features with the k-means clustering features\n",
    "train_k = pd.concat([train, training_cluster_features], axis=1)\n",
    "test_k = pd.concat([test, test_cluster_features], axis=1)\n",
    "\n",
    "print(train_k.shape)\n",
    "print(test_k.shape)"
   ]
  },
  {
   "cell_type": "code",
   "execution_count": 22,
   "metadata": {},
   "outputs": [],
   "source": [
    "train_columns = train_k.columns\n",
    "test_columns = test_k.columns"
   ]
  },
  {
   "cell_type": "code",
   "execution_count": 23,
   "metadata": {},
   "outputs": [],
   "source": [
    "train_k.columns = [i for i in range(len(train_k.columns))]\n",
    "test_k.columns = [i for i in range(len(test_k.columns))]"
   ]
  },
  {
   "cell_type": "markdown",
   "metadata": {},
   "source": [
    "# 모델링"
   ]
  },
  {
   "cell_type": "code",
   "execution_count": 24,
   "metadata": {},
   "outputs": [],
   "source": [
    "from sklearn.model_selection import train_test_split, cross_val_score\n",
    "from sklearn.linear_model import LinearRegression, Ridge, Lasso, ElasticNet\n",
    "from xgboost import XGBRegressor \n",
    "from lightgbm import LGBMRegressor\n",
    "from sklearn.ensemble import GradientBoostingRegressor, RandomForestRegressor\n",
    "from sklearn.model_selection import KFold\n",
    "from sklearn.model_selection import RandomizedSearchCV\n",
    "from sklearn.neural_network import MLPRegressor"
   ]
  },
  {
   "cell_type": "code",
   "execution_count": 25,
   "metadata": {},
   "outputs": [],
   "source": [
    "X_train, X_test, y_train, y_test = train_test_split(train_k,target, test_size=.2, random_state = 1)"
   ]
  },
  {
   "cell_type": "markdown",
   "metadata": {},
   "source": [
    "* cv"
   ]
  },
  {
   "cell_type": "code",
   "execution_count": 26,
   "metadata": {},
   "outputs": [
    {
     "name": "stdout",
     "output_type": "stream",
     "text": [
      "XGBRegressor 의 5 cv score: 44.05131543884411\n",
      "LGBMRegressor 의 5 cv score: 51.74932325569703\n",
      "RandomForestRegressor 의 5 cv score: 48.79285276444244\n"
     ]
    }
   ],
   "source": [
    "from sklearn.metrics import make_scorer\n",
    "\n",
    "def mape(actual,pred): \n",
    "    pred = np.expm1(pred)\n",
    "    actual = np.expm1(actual)\n",
    "    actual, pred = np.array(actual), np.array(pred)\n",
    "    pred = np.nan_to_num(pred, copy=False)\n",
    "    mape = np.mean(np.abs((actual - pred) / actual)) * 100\n",
    "    return mape\n",
    "mape_score = make_scorer(mape)\n",
    "\n",
    "\n",
    "\n",
    "xgb_reg = XGBRegressor(n_jobs=-1,random_state=0)\n",
    "rf_reg = RandomForestRegressor(n_jobs=-1, random_state=0)\n",
    "lgbm_reg = LGBMRegressor(n_jobs=-1,random_state=0)\n",
    "\n",
    "models=[xgb_reg, lgbm_reg, rf_reg]\n",
    "\n",
    "for model in models:\n",
    "    \n",
    "    k_fold = KFold(n_splits=5)\n",
    "    score_rf = cross_val_score(model, X_train, y_train, cv=k_fold, scoring = mape_score,n_jobs=-1)\n",
    "    score_rf_mean = score_rf.mean()\n",
    "    print(model.__class__.__name__,'의 5 cv score:' ,score_rf_mean) "
   ]
  },
  {
   "cell_type": "markdown",
   "metadata": {},
   "source": [
    "* tuning"
   ]
  },
  {
   "cell_type": "code",
   "execution_count": 27,
   "metadata": {},
   "outputs": [],
   "source": [
    "# regs = [  \n",
    "\n",
    "# #     (   LGBMRegressor(random_state=0, n_jobs=-1,num_iterations =1000,metric='mape'),\n",
    "# #          {\n",
    "# #     'num_leaves' : [30, 50, 70, 100],\n",
    "# #     'learning_rate': [0.1,0.01,0.05,0.001],\n",
    "# #     'n_estimators': [ 100, 200, 500], \n",
    "# #     'max_depth': [3,5,10,8]}\n",
    "# #     )\n",
    "# #      (   XGBRegressor(random_state=0, n_jobs=-1),\n",
    "# #     {'learning_rate': [1,0.1,0.01,0.001],\n",
    "# #     'n_estimators': [50, 100, 200, 500, 1000],\n",
    "# #     'max_depth' : [1,3,5,10,50]}\n",
    "# #     )\n",
    "# ]\n",
    "\n",
    "# from sklearn.metrics import make_scorer\n",
    "\n",
    "# def mape(actual,pred): \n",
    "#     pred = np.expm1(pred)\n",
    "#     actual = np.expm1(actual)\n",
    "#     actual, pred = np.array(actual), np.array(pred)\n",
    "#     pred = np.nan_to_num(pred, copy=False)\n",
    "#     mape = np.mean(np.abs((actual - pred) / actual)) * 100\n",
    "#     return -mape\n",
    "# mape_score = make_scorer(mape)\n",
    "\n",
    "# reg_tuned = []\n",
    "# for reg, param_grid in tqdm(regs):\n",
    "#     start = time.time()\n",
    "#     rand_search = RandomizedSearchCV(reg, param_grid, scoring=mape_score,\n",
    "#                                      cv=3,  n_jobs=-1)\n",
    "#     rand_search.fit(X_train, y_train)\n",
    "#     reg_name = type(reg).__name__\n",
    "#     mape_score1 = get_mape(rand_search)\n",
    "#     print('{:30s} {:30f} {:.1f}'.format(reg_name, mape_score1, time.time() - start))\n",
    "#     reg_tuned.append((reg_name, rand_search, mape_score))"
   ]
  },
  {
   "cell_type": "markdown",
   "metadata": {},
   "source": [
    "### best_estimator training"
   ]
  },
  {
   "cell_type": "code",
   "execution_count": 28,
   "metadata": {},
   "outputs": [],
   "source": [
    "def get_mape(model): \n",
    "    y_pred = model.predict(X_test)\n",
    "    y_pred = np.expm1(y_pred)\n",
    "    y_test_exp = np.expm1(y_test)\n",
    "    y_test_exp, y_pred = np.array(y_test_exp), np.array(y_pred)\n",
    "    mape = np.mean(np.abs((y_test_exp - y_pred) / y_test_exp)) * 100\n",
    "    print('{0} 의 mape: {1}'.format(model.__class__.__name__,np.round(mape, 3)))\n",
    "    return mape"
   ]
  },
  {
   "cell_type": "code",
   "execution_count": 29,
   "metadata": {},
   "outputs": [
    {
     "name": "stdout",
     "output_type": "stream",
     "text": [
      "RandomForestRegressor 의 mape: 44.238\n"
     ]
    },
    {
     "data": {
      "text/plain": [
       "44.23780276480208"
      ]
     },
     "execution_count": 29,
     "metadata": {},
     "output_type": "execute_result"
    }
   ],
   "source": [
    "rf_reg = RandomForestRegressor(n_jobs=-1, random_state=0)\n",
    "rf_reg.fit(X_train,y_train)\n",
    "\n",
    "get_mape(rf_reg)"
   ]
  },
  {
   "cell_type": "code",
   "execution_count": 30,
   "metadata": {},
   "outputs": [
    {
     "name": "stdout",
     "output_type": "stream",
     "text": [
      "XGBRegressor 의 mape: 36.342\n"
     ]
    },
    {
     "data": {
      "text/plain": [
       "36.342350773372935"
      ]
     },
     "execution_count": 30,
     "metadata": {},
     "output_type": "execute_result"
    }
   ],
   "source": [
    "xgb_reg = XGBRegressor(learning_rate=0.1,\n",
    "                             eta = 0.01,\n",
    "                             max_depth = 9,\n",
    "                             n_estimators=500,\n",
    "                            gamma = 0.05) \n",
    "xgb_reg.fit(X_train,y_train)\n",
    "\n",
    "get_mape(xgb_reg)"
   ]
  },
  {
   "cell_type": "code",
   "execution_count": 31,
   "metadata": {},
   "outputs": [
    {
     "name": "stdout",
     "output_type": "stream",
     "text": [
      "LGBMRegressor 의 mape: 37.701\n"
     ]
    },
    {
     "data": {
      "text/plain": [
       "37.70072356131398"
      ]
     },
     "execution_count": 31,
     "metadata": {},
     "output_type": "execute_result"
    }
   ],
   "source": [
    "lgbm_reg = LGBMRegressor(max_depth = 10,\n",
    "                        n_estimators=100,\n",
    "                        num_leaves=50,\n",
    "                        num_iterations=1000,\n",
    "                        metric='mape') \n",
    "lgbm_reg.fit(X_train,y_train)\n",
    "\n",
    "get_mape(lgbm_reg)"
   ]
  },
  {
   "cell_type": "markdown",
   "metadata": {},
   "source": [
    "* feature_importance"
   ]
  },
  {
   "cell_type": "code",
   "execution_count": 32,
   "metadata": {},
   "outputs": [
    {
     "data": {
      "text/plain": [
       "<matplotlib.axes._subplots.AxesSubplot at 0x163e8755408>"
      ]
     },
     "execution_count": 32,
     "metadata": {},
     "output_type": "execute_result"
    },
    {
     "data": {
      "image/png": "[encoded data removed]",
      "text/plain": [
       "<Figure size 1440x1440 with 1 Axes>"
      ]
     },
     "metadata": {},
     "output_type": "display_data"
    }
   ],
   "source": [
    "xgb_imp = pd.Series(xgb_reg.feature_importances_,index=train_columns).sort_values(ascending=False)[0:20]\n",
    "plt.figure(figsize=(20,20))\n",
    "sns.barplot(x=xgb_imp.values, y = xgb_imp.index)"
   ]
  },
  {
   "cell_type": "code",
   "execution_count": 33,
   "metadata": {},
   "outputs": [
    {
     "data": {
      "text/plain": [
       "<matplotlib.axes._subplots.AxesSubplot at 0x16395b09608>"
      ]
     },
     "execution_count": 33,
     "metadata": {},
     "output_type": "execute_result"
    },
    {
     "data": {
      "image/png": "[encoded data removed]",
      "text/plain": [
       "<Figure size 1440x1440 with 1 Axes>"
      ]
     },
     "metadata": {},
     "output_type": "display_data"
    }
   ],
   "source": [
    "lgbm_imp = pd.Series(lgbm_reg.feature_importances_,index=train_columns).sort_values(ascending=False)[0:20]\n",
    "plt.figure(figsize=(20,20))\n",
    "sns.barplot(x=lgbm_imp.values, y = lgbm_imp.index)\n"
   ]
  },
  {
   "cell_type": "code",
   "execution_count": 34,
   "metadata": {},
   "outputs": [
    {
     "data": {
      "text/plain": [
       "<matplotlib.axes._subplots.AxesSubplot at 0x16397a4e848>"
      ]
     },
     "execution_count": 34,
     "metadata": {},
     "output_type": "execute_result"
    },
    {
     "data": {
      "image/png": "[encoded data removed]",
      "text/plain": [
       "<Figure size 1440x1440 with 1 Axes>"
      ]
     },
     "metadata": {},
     "output_type": "display_data"
    }
   ],
   "source": [
    "rf_imp = pd.Series(rf_reg.feature_importances_,index=train_columns).sort_values(ascending=False)[0:20]\n",
    "plt.figure(figsize=(20,20))\n",
    "sns.barplot(x=rf_imp.values, y = rf_imp.index)"
   ]
  },
  {
   "cell_type": "markdown",
   "metadata": {},
   "source": [
    "# submit"
   ]
  },
  {
   "cell_type": "code",
   "execution_count": 35,
   "metadata": {},
   "outputs": [],
   "source": [
    "mu_sub = test_submit[test_submit['상품군'] == '무형']"
   ]
  },
  {
   "cell_type": "code",
   "execution_count": 36,
   "metadata": {},
   "outputs": [],
   "source": [
    "test_submit = test_submit.drop(mu_sub.index)"
   ]
  },
  {
   "cell_type": "code",
   "execution_count": 37,
   "metadata": {},
   "outputs": [],
   "source": [
    "sub = (np.expm1(xgb_reg.predict(test_k)) + np.expm1(lgbm_reg.predict(test_k)))/2"
   ]
  },
  {
   "cell_type": "code",
   "execution_count": 38,
   "metadata": {},
   "outputs": [],
   "source": [
    "test_submit['취급액'] = sub"
   ]
  },
  {
   "cell_type": "code",
   "execution_count": 39,
   "metadata": {},
   "outputs": [],
   "source": [
    "test_submit = pd.concat([test_submit,mu_sub]).sort_index()"
   ]
  },
  {
   "cell_type": "code",
   "execution_count": 40,
   "metadata": {},
   "outputs": [
    {
     "data": {
      "text/html": [
       "<div>\n",
       "<style scoped>\n",
       "    .dataframe tbody tr th:only-of-type {\n",
       "        vertical-align: middle;\n",
       "    }\n",
       "\n",
       "    .dataframe tbody tr th {\n",
       "        vertical-align: top;\n",
       "    }\n",
       "\n",
       "    .dataframe thead th {\n",
       "        text-align: right;\n",
       "    }\n",
       "</style>\n",
       "<table border=\"1\" class=\"dataframe\">\n",
       "  <thead>\n",
       "    <tr style=\"text-align: right;\">\n",
       "      <th></th>\n",
       "      <th>방송일시</th>\n",
       "      <th>노출(분)</th>\n",
       "      <th>마더코드</th>\n",
       "      <th>상품코드</th>\n",
       "      <th>상품명</th>\n",
       "      <th>상품군</th>\n",
       "      <th>판매단가</th>\n",
       "      <th>취급액</th>\n",
       "    </tr>\n",
       "  </thead>\n",
       "  <tbody>\n",
       "    <tr>\n",
       "      <th>0</th>\n",
       "      <td>2020-06-01 06:20:00</td>\n",
       "      <td>20.000000</td>\n",
       "      <td>100650</td>\n",
       "      <td>201971</td>\n",
       "      <td>잭필드 남성  반팔셔츠 4종</td>\n",
       "      <td>의류</td>\n",
       "      <td>59800</td>\n",
       "      <td>1.595470e+07</td>\n",
       "    </tr>\n",
       "    <tr>\n",
       "      <th>1</th>\n",
       "      <td>2020-06-01 06:40:00</td>\n",
       "      <td>20.000000</td>\n",
       "      <td>100650</td>\n",
       "      <td>201971</td>\n",
       "      <td>잭필드 남성  반팔셔츠 4종</td>\n",
       "      <td>의류</td>\n",
       "      <td>59800</td>\n",
       "      <td>2.233095e+07</td>\n",
       "    </tr>\n",
       "    <tr>\n",
       "      <th>2</th>\n",
       "      <td>2020-06-01 07:00:00</td>\n",
       "      <td>20.000000</td>\n",
       "      <td>100650</td>\n",
       "      <td>201971</td>\n",
       "      <td>잭필드 남성  반팔셔츠 4종</td>\n",
       "      <td>의류</td>\n",
       "      <td>59800</td>\n",
       "      <td>1.185101e+07</td>\n",
       "    </tr>\n",
       "    <tr>\n",
       "      <th>3</th>\n",
       "      <td>2020-06-01 07:20:00</td>\n",
       "      <td>20.000000</td>\n",
       "      <td>100445</td>\n",
       "      <td>202278</td>\n",
       "      <td>쿠미투니카 쿨 레이시 란쥬쉐이퍼&amp;팬티</td>\n",
       "      <td>속옷</td>\n",
       "      <td>69900</td>\n",
       "      <td>2.304725e+07</td>\n",
       "    </tr>\n",
       "    <tr>\n",
       "      <th>4</th>\n",
       "      <td>2020-06-01 07:40:00</td>\n",
       "      <td>20.000000</td>\n",
       "      <td>100445</td>\n",
       "      <td>202278</td>\n",
       "      <td>쿠미투니카 쿨 레이시 란쥬쉐이퍼&amp;팬티</td>\n",
       "      <td>속옷</td>\n",
       "      <td>69900</td>\n",
       "      <td>3.247050e+07</td>\n",
       "    </tr>\n",
       "    <tr>\n",
       "      <th>...</th>\n",
       "      <td>...</td>\n",
       "      <td>...</td>\n",
       "      <td>...</td>\n",
       "      <td>...</td>\n",
       "      <td>...</td>\n",
       "      <td>...</td>\n",
       "      <td>...</td>\n",
       "      <td>...</td>\n",
       "    </tr>\n",
       "    <tr>\n",
       "      <th>2886</th>\n",
       "      <td>2020-07-01 00:20:00</td>\n",
       "      <td>20.000000</td>\n",
       "      <td>100660</td>\n",
       "      <td>201989</td>\n",
       "      <td>쉴렉스  안마의자 렌탈서비스</td>\n",
       "      <td>무형</td>\n",
       "      <td>0</td>\n",
       "      <td>NaN</td>\n",
       "    </tr>\n",
       "    <tr>\n",
       "      <th>2887</th>\n",
       "      <td>2020-07-01 00:40:00</td>\n",
       "      <td>20.000000</td>\n",
       "      <td>100660</td>\n",
       "      <td>201989</td>\n",
       "      <td>쉴렉스  안마의자 렌탈서비스</td>\n",
       "      <td>무형</td>\n",
       "      <td>0</td>\n",
       "      <td>NaN</td>\n",
       "    </tr>\n",
       "    <tr>\n",
       "      <th>2888</th>\n",
       "      <td>2020-07-01 01:00:00</td>\n",
       "      <td>20.000000</td>\n",
       "      <td>100660</td>\n",
       "      <td>201989</td>\n",
       "      <td>쉴렉스  안마의자 렌탈서비스</td>\n",
       "      <td>무형</td>\n",
       "      <td>0</td>\n",
       "      <td>NaN</td>\n",
       "    </tr>\n",
       "    <tr>\n",
       "      <th>2889</th>\n",
       "      <td>2020-07-01 01:20:00</td>\n",
       "      <td>20.000000</td>\n",
       "      <td>100261</td>\n",
       "      <td>200875</td>\n",
       "      <td>아놀드파마 티셔츠레깅스세트</td>\n",
       "      <td>의류</td>\n",
       "      <td>69900</td>\n",
       "      <td>7.675326e+06</td>\n",
       "    </tr>\n",
       "    <tr>\n",
       "      <th>2890</th>\n",
       "      <td>2020-07-01 01:40:00</td>\n",
       "      <td>15.933333</td>\n",
       "      <td>100261</td>\n",
       "      <td>200875</td>\n",
       "      <td>아놀드파마 티셔츠레깅스세트</td>\n",
       "      <td>의류</td>\n",
       "      <td>69900</td>\n",
       "      <td>8.264529e+06</td>\n",
       "    </tr>\n",
       "  </tbody>\n",
       "</table>\n",
       "<p>2891 rows × 8 columns</p>\n",
       "</div>"
      ],
      "text/plain": [
       "                    방송일시      노출(분)    마더코드    상품코드                   상품명 상품군  \\\n",
       "0    2020-06-01 06:20:00  20.000000  100650  201971       잭필드 남성  반팔셔츠 4종  의류   \n",
       "1    2020-06-01 06:40:00  20.000000  100650  201971       잭필드 남성  반팔셔츠 4종  의류   \n",
       "2    2020-06-01 07:00:00  20.000000  100650  201971       잭필드 남성  반팔셔츠 4종  의류   \n",
       "3    2020-06-01 07:20:00  20.000000  100445  202278  쿠미투니카 쿨 레이시 란쥬쉐이퍼&팬티  속옷   \n",
       "4    2020-06-01 07:40:00  20.000000  100445  202278  쿠미투니카 쿨 레이시 란쥬쉐이퍼&팬티  속옷   \n",
       "...                  ...        ...     ...     ...                   ...  ..   \n",
       "2886 2020-07-01 00:20:00  20.000000  100660  201989       쉴렉스  안마의자 렌탈서비스  무형   \n",
       "2887 2020-07-01 00:40:00  20.000000  100660  201989       쉴렉스  안마의자 렌탈서비스  무형   \n",
       "2888 2020-07-01 01:00:00  20.000000  100660  201989       쉴렉스  안마의자 렌탈서비스  무형   \n",
       "2889 2020-07-01 01:20:00  20.000000  100261  200875        아놀드파마 티셔츠레깅스세트  의류   \n",
       "2890 2020-07-01 01:40:00  15.933333  100261  200875        아놀드파마 티셔츠레깅스세트  의류   \n",
       "\n",
       "       판매단가           취급액  \n",
       "0     59800  1.595470e+07  \n",
       "1     59800  2.233095e+07  \n",
       "2     59800  1.185101e+07  \n",
       "3     69900  2.304725e+07  \n",
       "4     69900  3.247050e+07  \n",
       "...     ...           ...  \n",
       "2886      0           NaN  \n",
       "2887      0           NaN  \n",
       "2888      0           NaN  \n",
       "2889  69900  7.675326e+06  \n",
       "2890  69900  8.264529e+06  \n",
       "\n",
       "[2891 rows x 8 columns]"
      ]
     },
     "execution_count": 40,
     "metadata": {},
     "output_type": "execute_result"
    }
   ],
   "source": [
    "test_submit"
   ]
  },
  {
   "cell_type": "code",
   "execution_count": 41,
   "metadata": {},
   "outputs": [],
   "source": [
    "test_submit.to_csv('submit.csv',index=None,encoding='cp949')"
   ]
  }
 ],
 "metadata": {
  "kernelspec": {
   "display_name": "Python 3",
   "language": "python",
   "name": "python3"
  },
  "language_info": {
   "codemirror_mode": {
    "name": "ipython",
    "version": 3
   },
   "file_extension": ".py",
   "mimetype": "text/x-python",
   "name": "python",
   "nbconvert_exporter": "python",
   "pygments_lexer": "ipython3",
   "version": "3.7.7"
  }
 },
 "nbformat": 4,
 "nbformat_minor": 4
}
